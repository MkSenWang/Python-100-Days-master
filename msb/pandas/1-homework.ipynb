{
 "cells": [
  {
   "cell_type": "markdown",
   "id": "86adb414",
   "metadata": {},
   "source": [
    "### 作业1\n",
    "给定一个4维矩阵，如何得到最后两维的和？（提示，指定axis进行计算）"
   ]
  },
  {
   "cell_type": "code",
   "execution_count": 7,
   "id": "04d33083",
   "metadata": {},
   "outputs": [
    {
     "data": {
      "text/plain": [
       "(2, 3, 4, 5)"
      ]
     },
     "metadata": {},
     "output_type": "display_data"
    },
    {
     "name": "stdout",
     "output_type": "stream",
     "text": [
      "求和：\n"
     ]
    },
    {
     "data": {
      "text/plain": [
       "(2, 3)"
      ]
     },
     "execution_count": 7,
     "metadata": {},
     "output_type": "execute_result"
    }
   ],
   "source": [
    "import numpy as np\n",
    "\n",
    "arr = np.random.randint(0,10,size = (2,3,4,5))\n",
    "\n",
    "display(arr.shape)\n",
    "# 最后两维的和，指定轴即可\n",
    "print('求和：')\n",
    "arr.sum(axis = (-1,-2)).shape"
   ]
  },
  {
   "cell_type": "markdown",
   "id": "be584e85",
   "metadata": {},
   "source": [
    "###  作业2  \n",
    "给定数组[1, 2, 3, 4, 5]，如何得到在这个数组的每个元素之间插入3个0后的新数组？"
   ]
  },
  {
   "cell_type": "code",
   "execution_count": 8,
   "id": "3d4142ac",
   "metadata": {},
   "outputs": [
    {
     "name": "stdout",
     "output_type": "stream",
     "text": [
      "[1 2 3 4 5]\n",
      "[0 0 0 0 0 0 0 0 0 0 0 0 0 0 0 0 0]\n",
      "替换之后的数据为：\n",
      " [1 0 0 0 2 0 0 0 3 0 0 0 4 0 0 0 5]\n"
     ]
    }
   ],
   "source": [
    "import numpy as np\n",
    "\n",
    "arr1 = np.arange(1,6)\n",
    "print(arr1)\n",
    "\n",
    "arr2 = np.zeros(shape = 17,dtype = np.int16)\n",
    "print(arr2)\n",
    "\n",
    "# 有间隔的，取出数据并进行替换\n",
    "# 特定位置的数据进行赋值操作\n",
    "arr2[::4] = arr1\n",
    "print('替换之后的数据为：\\n',arr2)"
   ]
  },
  {
   "cell_type": "markdown",
   "id": "848ec846",
   "metadata": {},
   "source": [
    "### 作业3  \n",
    "给定一个二维矩阵（5行4列），如何交换其中两行的元素（提示：任意调整，花式索引）？"
   ]
  },
  {
   "cell_type": "code",
   "execution_count": 9,
   "id": "1faa2a64",
   "metadata": {
    "collapsed": true
   },
   "outputs": [
    {
     "name": "stdout",
     "output_type": "stream",
     "text": [
      "调整前：\n",
      " [[31  1 26 69]\n",
      " [25 87 92 93]\n",
      " [80 58 69 43]\n",
      " [42 81 55 52]\n",
      " [73 31 88 55]]\n",
      "调整后：\n",
      " [[31  1 26 69]\n",
      " [80 58 69 43]\n",
      " [25 87 92 93]\n",
      " [42 81 55 52]\n",
      " [73 31 88 55]]\n"
     ]
    }
   ],
   "source": [
    "import numpy as np\n",
    "\n",
    "arr = np.random.randint(0,100,size = (5,4))\n",
    "\n",
    "print('调整前：\\n', arr)\n",
    "\n",
    "arr = arr[[0,2,1,3,4]]\n",
    "print('调整后：\\n', arr)"
   ]
  },
  {
   "cell_type": "markdown",
   "id": "cd048c87",
   "metadata": {},
   "source": [
    "### 作业4  \n",
    "创建一个100000长度的随机数组，使用两种方法对其求三次方（1、for循环；2、NumPy自带方法），并比较所用时间(指令：%%time，可以计算运行时间)"
   ]
  },
  {
   "cell_type": "code",
   "execution_count": 10,
   "id": "0781e6d6",
   "metadata": {
    "collapsed": true
   },
   "outputs": [
    {
     "name": "stdout",
     "output_type": "stream",
     "text": [
      "原数据 [6 3 7 3 5 0 2 5 9 2]\n",
      "NumPy默认方法求三次幂： [216  27 343  27 125   0   8 125 729   8]\n",
      "Wall time: 2 ms\n"
     ]
    }
   ],
   "source": [
    "%%time\n",
    "import numpy as np\n",
    "arr = np.random.randint(0,10,size = 100000)\n",
    "print('原数据',arr[:10])\n",
    "arr3 = np.power(arr,3)\n",
    "print('NumPy默认方法求三次幂：',arr3[:10])"
   ]
  },
  {
   "cell_type": "code",
   "execution_count": 11,
   "id": "bb3abfd7",
   "metadata": {
    "collapsed": true
   },
   "outputs": [
    {
     "name": "stdout",
     "output_type": "stream",
     "text": [
      "原数据： [3 0 7 1 8 3 2 8 1 1]\n",
      "for循环求三次幂结果： [27, 0, 343, 1, 512, 27, 8, 512, 1, 1]\n",
      "Wall time: 26.9 ms\n"
     ]
    }
   ],
   "source": [
    "%%time\n",
    "import numpy as np\n",
    "arr = np.random.randint(0,10,size = 100000)\n",
    "print('原数据：', arr[:10])\n",
    "result = []\n",
    "for i in arr:\n",
    "    result.append(i**3)\n",
    "print('for循环求三次幂结果：', result[:10])"
   ]
  },
  {
   "cell_type": "markdown",
   "id": "22bc4011",
   "metadata": {},
   "source": [
    "### 作业5   \n",
    "创建一个5行3列随机矩阵和一个3行2列随机矩阵，求矩阵积"
   ]
  },
  {
   "cell_type": "code",
   "execution_count": 12,
   "id": "0ab807fe",
   "metadata": {
    "collapsed": true
   },
   "outputs": [
    {
     "data": {
      "text/plain": [
       "array([[3, 8, 5],\n",
       "       [6, 6, 3],\n",
       "       [4, 4, 8],\n",
       "       [3, 1, 7],\n",
       "       [9, 4, 1]])"
      ]
     },
     "metadata": {},
     "output_type": "display_data"
    },
    {
     "data": {
      "text/plain": [
       "array([[1, 7],\n",
       "       [3, 6],\n",
       "       [1, 7]])"
      ]
     },
     "metadata": {},
     "output_type": "display_data"
    },
    {
     "name": "stdout",
     "output_type": "stream",
     "text": [
      "方式一：\n",
      " [[ 32 104]\n",
      " [ 27  99]\n",
      " [ 24 108]\n",
      " [ 13  76]\n",
      " [ 22  94]]\n",
      "方式二：\n",
      " [[ 32 104]\n",
      " [ 27  99]\n",
      " [ 24 108]\n",
      " [ 13  76]\n",
      " [ 22  94]]\n",
      "方式三：\n",
      " [[ 32 104]\n",
      " [ 27  99]\n",
      " [ 24 108]\n",
      " [ 13  76]\n",
      " [ 22  94]]\n"
     ]
    }
   ],
   "source": [
    "import numpy as np\n",
    "\n",
    "A = np.random.randint(0,10,size = (5,3))\n",
    "B = np.random.randint(0,10,size = (3,2))\n",
    "display(A,B)\n",
    "\n",
    "print('方式一：\\n',np.dot(A,B)) # 调用NumPy函数dot\n",
    "print('方式二：\\n',A.dot(B)) # 调用对象方法\n",
    "print('方式三：\\n',A @ B) # 使用符号计算"
   ]
  },
  {
   "cell_type": "markdown",
   "id": "160e9599",
   "metadata": {},
   "source": [
    "### 作业6  \n",
    "矩阵的每一行的元素都减去该行的平均值（注意，平均值计算时指定axis，以及减法操作时形状改变）"
   ]
  },
  {
   "cell_type": "code",
   "execution_count": 17,
   "id": "a3cb1abe",
   "metadata": {
    "collapsed": true
   },
   "outputs": [
    {
     "data": {
      "text/plain": [
       "array([[6, 5, 5, 6, 4],\n",
       "       [5, 1, 1, 4, 0],\n",
       "       [8, 0, 3, 1, 4]])"
      ]
     },
     "metadata": {},
     "output_type": "display_data"
    },
    {
     "name": "stdout",
     "output_type": "stream",
     "text": [
      "计算每一行平均值：\n"
     ]
    },
    {
     "data": {
      "text/plain": [
       "array([5.2, 2.2, 3.2])"
      ]
     },
     "metadata": {},
     "output_type": "display_data"
    },
    {
     "name": "stdout",
     "output_type": "stream",
     "text": [
      "每一行的元素都减去该行的平均值：\n"
     ]
    },
    {
     "data": {
      "text/plain": [
       "array([[ 0.8, -0.2, -0.2,  0.8, -1.2],\n",
       "       [ 2.8, -1.2, -1.2,  1.8, -2.2],\n",
       "       [ 4.8, -3.2, -0.2, -2.2,  0.8]])"
      ]
     },
     "execution_count": 17,
     "metadata": {},
     "output_type": "execute_result"
    }
   ],
   "source": [
    "import numpy as np\n",
    "\n",
    "X = np.random.randint(0,10,size = (3,5))\n",
    "display(X)\n",
    "\n",
    "print('计算每一行平均值：')\n",
    "display(X.mean(axis = 1))\n",
    "\n",
    "print('每一行的元素都减去该行的平均值：')\n",
    "# 注意，求了平均值，形状改变（变成二维，便于广播）\n",
    "X - X.mean(axis = 1).reshape(-1,1)"
   ]
  },
  {
   "cell_type": "markdown",
   "id": "caf56603",
   "metadata": {},
   "source": [
    "### 作业7  \n",
    "打印出以下函数（要求使用np.zeros创建8*8的矩阵）："
   ]
  },
  {
   "cell_type": "code",
   "execution_count": 18,
   "id": "590df70d",
   "metadata": {
    "collapsed": true
   },
   "outputs": [
    {
     "name": "stdout",
     "output_type": "stream",
     "text": [
      "原数据：\n"
     ]
    },
    {
     "data": {
      "text/plain": [
       "array([[0, 0, 0, 0, 0, 0, 0, 0],\n",
       "       [0, 0, 0, 0, 0, 0, 0, 0],\n",
       "       [0, 0, 0, 0, 0, 0, 0, 0],\n",
       "       [0, 0, 0, 0, 0, 0, 0, 0],\n",
       "       [0, 0, 0, 0, 0, 0, 0, 0],\n",
       "       [0, 0, 0, 0, 0, 0, 0, 0],\n",
       "       [0, 0, 0, 0, 0, 0, 0, 0],\n",
       "       [0, 0, 0, 0, 0, 0, 0, 0]], dtype=int16)"
      ]
     },
     "metadata": {},
     "output_type": "display_data"
    },
    {
     "name": "stdout",
     "output_type": "stream",
     "text": [
      "修改后的数据是：\n"
     ]
    },
    {
     "data": {
      "text/plain": [
       "array([[0, 1, 0, 1, 0, 1, 0, 1],\n",
       "       [1, 0, 1, 0, 1, 0, 1, 0],\n",
       "       [0, 1, 0, 1, 0, 1, 0, 1],\n",
       "       [1, 0, 1, 0, 1, 0, 1, 0],\n",
       "       [0, 1, 0, 1, 0, 1, 0, 1],\n",
       "       [1, 0, 1, 0, 1, 0, 1, 0],\n",
       "       [0, 1, 0, 1, 0, 1, 0, 1],\n",
       "       [1, 0, 1, 0, 1, 0, 1, 0]], dtype=int16)"
      ]
     },
     "execution_count": 18,
     "metadata": {},
     "output_type": "execute_result"
    }
   ],
   "source": [
    "import numpy as np\n",
    "\n",
    "arr = np.zeros(shape = (8,8),dtype=np.int16)\n",
    "\n",
    "print('原数据：')\n",
    "display(arr)\n",
    "# 将奇数行，欧数列，进行修改\n",
    "arr[::2,1::2] = 1\n",
    "\n",
    "# 将偶数行，奇数行，进行修改\n",
    "arr[1::2,::2] = 1\n",
    "\n",
    "print('修改后的数据是：')\n",
    "arr"
   ]
  },
  {
   "cell_type": "markdown",
   "id": "60c87db3",
   "metadata": {},
   "source": [
    "### 作业8  \n",
    "正则化一个5行5列的随机矩阵（数据统一变成0~1之间的数字，相当于进行缩小）\n",
    "正则的概念：矩阵A中的每一列减去这一列最小值，除以每一列的最大值减去每一列的最小值（提示：轴axis给合适的参数！！！）"
   ]
  },
  {
   "cell_type": "markdown",
   "id": "4c468542",
   "metadata": {},
   "source": [
    "<font size = 6 >$\\rm{ A = \\frac{A - A.min}{A.max - A.min}}$</font>"
   ]
  },
  {
   "cell_type": "code",
   "execution_count": 19,
   "id": "efdeb7a8",
   "metadata": {
    "collapsed": true
   },
   "outputs": [
    {
     "name": "stdout",
     "output_type": "stream",
     "text": [
      "原数据为：\n"
     ]
    },
    {
     "data": {
      "text/plain": [
       "array([[7, 6, 5, 4, 5],\n",
       "       [6, 1, 8, 2, 6],\n",
       "       [5, 4, 4, 5, 5],\n",
       "       [3, 3, 4, 5, 8],\n",
       "       [6, 6, 7, 2, 9]])"
      ]
     },
     "metadata": {},
     "output_type": "display_data"
    },
    {
     "name": "stdout",
     "output_type": "stream",
     "text": [
      "正则化后：\n"
     ]
    },
    {
     "data": {
      "text/plain": [
       "array([[1.        , 1.        , 0.25      , 0.66666667, 0.        ],\n",
       "       [0.75      , 0.        , 1.        , 0.        , 0.25      ],\n",
       "       [0.5       , 0.6       , 0.        , 1.        , 0.        ],\n",
       "       [0.        , 0.4       , 0.        , 1.        , 0.75      ],\n",
       "       [0.75      , 1.        , 0.75      , 0.        , 1.        ]])"
      ]
     },
     "execution_count": 19,
     "metadata": {},
     "output_type": "execute_result"
    }
   ],
   "source": [
    "import numpy as np\n",
    "\n",
    "A = np.random.randint(1,10,size = (5,5))\n",
    "print('原数据为：')\n",
    "display(A)\n",
    "\n",
    "# 根据公式进行计算，注意axis，要正确指定\n",
    "B = (A - A.min(axis = 0))/(A.max(axis = 0) - A.min(axis = 0))\n",
    "print('正则化后：')\n",
    "B"
   ]
  },
  {
   "cell_type": "code",
   "execution_count": 22,
   "id": "fd731815",
   "metadata": {},
   "outputs": [
    {
     "data": {
      "text/plain": [
       "array([3, 1, 4, 2, 5])"
      ]
     },
     "execution_count": 22,
     "metadata": {},
     "output_type": "execute_result"
    }
   ],
   "source": [
    "A.min(axis = 1) # axis = 1一行的最小值\n",
    "A.min(axis = 0) # axis = 0 一列的最小值"
   ]
  },
  {
   "cell_type": "markdown",
   "id": "bdc1edbf",
   "metadata": {},
   "source": [
    "### 作业9  \n",
    "\n",
    "如何根据两个或多个条件过滤numpy数组。加载鸢尾花数据，根据第一列小于5.0并且第三列大于1.5作为条件，进行数据筛选。（提示，需要使用逻辑与运算：&）"
   ]
  },
  {
   "cell_type": "code",
   "execution_count": 25,
   "id": "c5640105",
   "metadata": {
    "collapsed": true
   },
   "outputs": [
    {
     "data": {
      "text/plain": [
       "array([[4.8, 3.4, 1.6, 0.2],\n",
       "       [4.8, 3.4, 1.9, 0.2],\n",
       "       [4.7, 3.2, 1.6, 0.2],\n",
       "       [4.8, 3.1, 1.6, 0.2],\n",
       "       [4.9, 2.4, 3.3, 1. ],\n",
       "       [4.9, 2.5, 4.5, 1.7]])"
      ]
     },
     "execution_count": 25,
     "metadata": {},
     "output_type": "execute_result"
    }
   ],
   "source": [
    "import numpy as np\n",
    "\n",
    "# 加载了文本文件，储存数据都是结构化的数据\n",
    "# 花萼长度、花萼宽度、花瓣长度、花瓣宽度\n",
    "iris = np.loadtxt('./iris.csv',delimiter = ',')\n",
    "\n",
    "iris.shape\n",
    "\n",
    "cond1 = iris[:,0] < 5 # 第一列小于5.0\n",
    "cond2 = iris[:,2] > 1.5 # 第三列大于1.5\n",
    "\n",
    "cond = cond1 & cond2 # 合并条件\n",
    "\n",
    "# 获取数据\n",
    "iris[cond]"
   ]
  },
  {
   "cell_type": "markdown",
   "id": "26aa0a66",
   "metadata": {},
   "source": [
    "### 作业10  \n",
    "\n",
    "计算鸢尾花数据**每一行**的softmax得分（exp表示自然底数e的幂运算）"
   ]
  },
  {
   "cell_type": "code",
   "execution_count": 26,
   "id": "c96d3e57",
   "metadata": {},
   "outputs": [
    {
     "data": {
      "text/plain": [
       "7.38905609893065"
      ]
     },
     "execution_count": 26,
     "metadata": {},
     "output_type": "execute_result"
    }
   ],
   "source": [
    "np.exp(2) # 幂运算，底数是自然底数e = 2.718"
   ]
  },
  {
   "cell_type": "code",
   "execution_count": 29,
   "id": "8f19b178",
   "metadata": {},
   "outputs": [
    {
     "data": {
      "text/plain": [
       "7.3890560989306495"
      ]
     },
     "execution_count": 29,
     "metadata": {},
     "output_type": "execute_result"
    }
   ],
   "source": [
    "np.e**2 # 相当于np.exp"
   ]
  },
  {
   "cell_type": "code",
   "execution_count": 30,
   "id": "7d14a9c0",
   "metadata": {},
   "outputs": [
    {
     "data": {
      "text/plain": [
       "array([2. , 1. , 0.1])"
      ]
     },
     "execution_count": 30,
     "metadata": {},
     "output_type": "execute_result"
    }
   ],
   "source": [
    "arr = np.array([2,1,0.1])\n",
    "arr"
   ]
  },
  {
   "cell_type": "code",
   "execution_count": 33,
   "id": "5c53dd87",
   "metadata": {},
   "outputs": [
    {
     "data": {
      "text/plain": [
       "array([0.7, 0.2, 0.1])"
      ]
     },
     "execution_count": 33,
     "metadata": {},
     "output_type": "execute_result"
    }
   ],
   "source": [
    "exp = np.exp(arr)\n",
    "\n",
    "(exp/exp.sum()).round(1)"
   ]
  },
  {
   "cell_type": "code",
   "execution_count": 34,
   "id": "7ac5b3fe",
   "metadata": {},
   "outputs": [
    {
     "name": "stdout",
     "output_type": "stream",
     "text": [
      "未计算之前：\n",
      " [[5.1 3.5 1.4 0.2]\n",
      " [4.9 3.  1.4 0.2]\n",
      " [4.7 3.2 1.3 0.2]\n",
      " [4.6 3.1 1.5 0.2]\n",
      " [5.  3.6 1.4 0.2]]\n",
      "softmax得分：\n",
      " [[0.81  0.164 0.02  0.006]\n",
      " [0.841 0.126 0.025 0.008]\n",
      " [0.789 0.176 0.026 0.009]\n",
      " [0.781 0.174 0.035 0.01 ]\n",
      " [0.78  0.192 0.021 0.006]]\n"
     ]
    }
   ],
   "source": [
    "import numpy as np\n",
    "\n",
    "iris = np.loadtxt('./iris.csv',delimiter = ',')\n",
    "\n",
    "print('未计算之前：\\n', iris[:5])\n",
    "\n",
    "def softmax(x):\n",
    "    exp = np.exp(x)\n",
    "    # 每一行求和，并且进行形状改变（变成二维，可以进行广播）\n",
    "    # axis = 1 表示计算每一行的和\n",
    "    # reshape，广播\n",
    "    result = exp/exp.sum(axis = 1).reshape(-1,1)\n",
    "    return result.round(3) # 保留3位小数\n",
    "\n",
    "result = softmax(iris)\n",
    "print('softmax得分：\\n',result[:5])"
   ]
  },
  {
   "cell_type": "code",
   "execution_count": 36,
   "id": "2cfb0e20",
   "metadata": {
    "collapsed": true
   },
   "outputs": [
    {
     "data": {
      "text/plain": [
       "array([1.   , 1.   , 1.   , 1.   , 0.999, 1.   , 1.   , 1.   , 1.   ,\n",
       "       1.001, 1.001, 1.   , 1.001, 1.   , 1.   , 1.001, 0.999, 1.   ,\n",
       "       1.001, 0.999, 1.   , 0.999, 0.999, 1.   , 1.   , 1.   , 1.   ,\n",
       "       1.   , 1.   , 1.   , 1.   , 0.999, 0.999, 1.001, 1.001, 1.   ,\n",
       "       1.   , 1.   , 0.999, 0.999, 1.001, 1.   , 1.   , 1.   , 1.   ,\n",
       "       1.001, 1.   , 0.999, 1.   , 1.   , 1.   , 1.   , 0.999, 1.   ,\n",
       "       1.001, 1.   , 0.999, 1.001, 0.999, 1.   , 1.   , 1.   , 1.   ,\n",
       "       0.999, 0.999, 1.   , 1.   , 1.   , 1.   , 0.999, 1.   , 1.   ,\n",
       "       1.   , 1.001, 1.   , 1.   , 1.   , 1.   , 1.   , 1.   , 0.999,\n",
       "       1.   , 0.999, 0.999, 1.   , 1.   , 1.   , 1.   , 1.   , 1.   ,\n",
       "       1.001, 1.   , 1.   , 1.   , 0.999, 1.   , 0.999, 1.   , 1.   ,\n",
       "       1.   , 1.   , 1.   , 1.   , 1.   , 1.   , 1.   , 1.   , 1.   ,\n",
       "       1.   , 1.   , 0.999, 1.   , 1.   , 1.   , 1.   , 0.999, 0.999,\n",
       "       1.   , 1.   , 1.001, 1.001, 0.999, 0.999, 1.   , 1.001, 0.999,\n",
       "       1.001, 0.999, 1.   , 1.   , 1.   , 1.   , 0.999, 1.   , 1.001,\n",
       "       1.   , 1.   , 1.   , 0.999, 1.001, 1.   , 1.   , 1.   , 1.   ,\n",
       "       1.001, 1.001, 0.999, 0.999, 1.   , 0.999])"
      ]
     },
     "execution_count": 36,
     "metadata": {},
     "output_type": "execute_result"
    }
   ],
   "source": [
    "result.sum(axis = 1)"
   ]
  },
  {
   "cell_type": "code",
   "execution_count": null,
   "id": "345ae7cd",
   "metadata": {},
   "outputs": [],
   "source": []
  }
 ],
 "metadata": {
  "kernelspec": {
   "display_name": "Python 3",
   "language": "python",
   "name": "python3"
  },
  "language_info": {
   "codemirror_mode": {
    "name": "ipython",
    "version": 3
   },
   "file_extension": ".py",
   "mimetype": "text/x-python",
   "name": "python",
   "nbconvert_exporter": "python",
   "pygments_lexer": "ipython3",
   "version": "3.8.10"
  }
 },
 "nbformat": 4,
 "nbformat_minor": 5
}
