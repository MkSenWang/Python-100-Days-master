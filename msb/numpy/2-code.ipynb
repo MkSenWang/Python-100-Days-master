{
 "cells": [
  {
   "cell_type": "markdown",
   "id": "75678fe7",
   "metadata": {
    "heading_collapsed": true
   },
   "source": [
    "### 索引切片"
   ]
  },
  {
   "cell_type": "code",
   "execution_count": 1,
   "id": "bd06b87c",
   "metadata": {
    "hidden": true
   },
   "outputs": [
    {
     "data": {
      "text/plain": [
       "array([[14,  3, 14,  4, 10,  3],\n",
       "       [ 3, -3,  8,  5, 10,  2],\n",
       "       [ 4, -5, 11,  7,  8, 12],\n",
       "       [ 7, 14, 14,  9, -4, -1],\n",
       "       [13,  8, 12,  9, -5,  6]])"
      ]
     },
     "execution_count": 1,
     "metadata": {},
     "output_type": "execute_result"
    }
   ],
   "source": [
    "import numpy as np\n",
    "\n",
    "nd2 = np.random.randint(-5,15,size = (5,6))\n",
    "\n",
    "nd2"
   ]
  },
  {
   "cell_type": "code",
   "execution_count": 2,
   "id": "5110f728",
   "metadata": {
    "hidden": true
   },
   "outputs": [
    {
     "data": {
      "text/plain": [
       "array([[ 3, -3,  8,  5, 10,  2],\n",
       "       [ 7, 14, 14,  9, -4, -1]])"
      ]
     },
     "execution_count": 2,
     "metadata": {},
     "output_type": "execute_result"
    }
   ],
   "source": [
    "nd2[[1,3]]"
   ]
  },
  {
   "cell_type": "code",
   "execution_count": 3,
   "id": "b129eb48",
   "metadata": {
    "hidden": true
   },
   "outputs": [
    {
     "data": {
      "text/plain": [
       "array([[ 3,  4,  3],\n",
       "       [-3,  5,  2],\n",
       "       [-5,  7, 12],\n",
       "       [14,  9, -1],\n",
       "       [ 8,  9,  6]])"
      ]
     },
     "execution_count": 3,
     "metadata": {},
     "output_type": "execute_result"
    }
   ],
   "source": [
    "nd2[:,[1,3,5]]"
   ]
  },
  {
   "cell_type": "code",
   "execution_count": 4,
   "id": "466c09d7",
   "metadata": {
    "collapsed": true,
    "hidden": true
   },
   "outputs": [
    {
     "ename": "IndexError",
     "evalue": "shape mismatch: indexing arrays could not be broadcast together with shapes (2,) (3,) ",
     "output_type": "error",
     "traceback": [
      "\u001b[1;31m---------------------------------------------------------------------------\u001b[0m",
      "\u001b[1;31mIndexError\u001b[0m                                Traceback (most recent call last)",
      "\u001b[1;32m<ipython-input-4-0801a9c2d08a>\u001b[0m in \u001b[0;36m<module>\u001b[1;34m\u001b[0m\n\u001b[1;32m----> 1\u001b[1;33m \u001b[0mnd2\u001b[0m\u001b[1;33m[\u001b[0m\u001b[1;33m[\u001b[0m\u001b[1;36m1\u001b[0m\u001b[1;33m,\u001b[0m\u001b[1;36m3\u001b[0m\u001b[1;33m]\u001b[0m\u001b[1;33m,\u001b[0m\u001b[1;33m[\u001b[0m\u001b[1;36m1\u001b[0m\u001b[1;33m,\u001b[0m\u001b[1;36m3\u001b[0m\u001b[1;33m,\u001b[0m\u001b[1;36m5\u001b[0m\u001b[1;33m]\u001b[0m\u001b[1;33m]\u001b[0m\u001b[1;33m\u001b[0m\u001b[1;33m\u001b[0m\u001b[0m\n\u001b[0m",
      "\u001b[1;31mIndexError\u001b[0m: shape mismatch: indexing arrays could not be broadcast together with shapes (2,) (3,) "
     ]
    }
   ],
   "source": [
    "nd2[[1,3],[1,3,5]] # 成对出现，（1,1）（3,3），后面5无法结合"
   ]
  },
  {
   "cell_type": "code",
   "execution_count": 5,
   "id": "525b4a06",
   "metadata": {
    "hidden": true,
    "scrolled": true
   },
   "outputs": [
    {
     "data": {
      "text/plain": [
       "array([ 5, -1])"
      ]
     },
     "execution_count": 5,
     "metadata": {},
     "output_type": "execute_result"
    }
   ],
   "source": [
    "nd2[[1,3],[3,5]]"
   ]
  },
  {
   "cell_type": "markdown",
   "id": "7379e308",
   "metadata": {
    "hidden": true
   },
   "source": [
    "#### 方式一："
   ]
  },
  {
   "cell_type": "code",
   "execution_count": 6,
   "id": "7217af88",
   "metadata": {
    "hidden": true
   },
   "outputs": [
    {
     "data": {
      "text/plain": [
       "array([[-3,  5,  2],\n",
       "       [14,  9, -1]])"
      ]
     },
     "execution_count": 6,
     "metadata": {},
     "output_type": "execute_result"
    }
   ],
   "source": [
    "nd2[[1,3]][:,[1,3,5]]"
   ]
  },
  {
   "cell_type": "markdown",
   "id": "655048e2",
   "metadata": {
    "hidden": true
   },
   "source": [
    "#### 方式二"
   ]
  },
  {
   "cell_type": "code",
   "execution_count": 8,
   "id": "b754bb6a",
   "metadata": {
    "hidden": true
   },
   "outputs": [
    {
     "data": {
      "text/plain": [
       "array([[-3,  5,  2],\n",
       "       [14,  9, -1]])"
      ]
     },
     "execution_count": 8,
     "metadata": {},
     "output_type": "execute_result"
    }
   ],
   "source": [
    "index = np.ix_([1,3],[1,3,5])\n",
    "\n",
    "nd2[index] # 相当于 nd2[[1,3]][:,[1,3,5]]"
   ]
  },
  {
   "cell_type": "markdown",
   "id": "eefd85b8",
   "metadata": {
    "heading_collapsed": true
   },
   "source": [
    "### 形状改变"
   ]
  },
  {
   "cell_type": "markdown",
   "id": "a866bccd",
   "metadata": {
    "hidden": true
   },
   "source": [
    "#### reshape"
   ]
  },
  {
   "cell_type": "code",
   "execution_count": 18,
   "id": "ba3fbecd",
   "metadata": {
    "collapsed": true,
    "hidden": true
   },
   "outputs": [
    {
     "data": {
      "text/plain": [
       "array([[97, 42, 49, 92],\n",
       "       [88, 31, 54, 33],\n",
       "       [19, 74, 62, 13]])"
      ]
     },
     "metadata": {},
     "output_type": "display_data"
    },
    {
     "data": {
      "text/plain": [
       "array([[97, 42, 49],\n",
       "       [92, 88, 31],\n",
       "       [54, 33, 19],\n",
       "       [74, 62, 13]])"
      ]
     },
     "metadata": {},
     "output_type": "display_data"
    },
    {
     "name": "stdout",
     "output_type": "stream",
     "text": [
      "2行6列：\n"
     ]
    },
    {
     "data": {
      "text/plain": [
       "array([[97, 42, 49, 92, 88, 31],\n",
       "       [54, 33, 19, 74, 62, 13]])"
      ]
     },
     "metadata": {},
     "output_type": "display_data"
    },
    {
     "data": {
      "text/plain": [
       "array([[97, 42, 49, 92, 88, 31],\n",
       "       [54, 33, 19, 74, 62, 13]])"
      ]
     },
     "metadata": {},
     "output_type": "display_data"
    },
    {
     "data": {
      "text/plain": [
       "array([97, 42, 49, 92, 88, 31, 54, 33, 19, 74, 62, 13])"
      ]
     },
     "metadata": {},
     "output_type": "display_data"
    }
   ],
   "source": [
    "nd2 = np.random.randint(0,100,size = (3,4))\n",
    "\n",
    "display(nd2) # 美观\n",
    "# print(nd2)\n",
    "\n",
    "# 数据重塑reshape\n",
    "display(nd2.reshape(4,3)) # 一行行数，接龙~\n",
    "\n",
    "print('2行6列：')\n",
    "display(nd2.reshape(2,6))\n",
    "# -1表示，最后算，相当于 x * 6 = 3 * 4----> x = 2\n",
    "display(nd2.reshape(-1,6)) # 适合，不关心总数，灵活，预先算\n",
    "\n",
    "display(nd2.reshape(-1)) # 自动算"
   ]
  },
  {
   "cell_type": "code",
   "execution_count": 19,
   "id": "021d76f2",
   "metadata": {
    "collapsed": true,
    "hidden": true
   },
   "outputs": [
    {
     "ename": "ValueError",
     "evalue": "cannot reshape array of size 12 into shape (3,5)",
     "output_type": "error",
     "traceback": [
      "\u001b[1;31m---------------------------------------------------------------------------\u001b[0m",
      "\u001b[1;31mValueError\u001b[0m                                Traceback (most recent call last)",
      "\u001b[1;32m<ipython-input-19-ecdbd277a741>\u001b[0m in \u001b[0;36m<module>\u001b[1;34m\u001b[0m\n\u001b[1;32m----> 1\u001b[1;33m \u001b[0mnd2\u001b[0m\u001b[1;33m.\u001b[0m\u001b[0mreshape\u001b[0m\u001b[1;33m(\u001b[0m\u001b[1;36m3\u001b[0m\u001b[1;33m,\u001b[0m\u001b[1;36m5\u001b[0m\u001b[1;33m)\u001b[0m\u001b[1;33m\u001b[0m\u001b[1;33m\u001b[0m\u001b[0m\n\u001b[0m",
      "\u001b[1;31mValueError\u001b[0m: cannot reshape array of size 12 into shape (3,5)"
     ]
    }
   ],
   "source": [
    "nd2.reshape(3,5)"
   ]
  },
  {
   "cell_type": "markdown",
   "id": "bfa61df6",
   "metadata": {
    "hidden": true
   },
   "source": [
    "#### 叠加"
   ]
  },
  {
   "cell_type": "code",
   "execution_count": 22,
   "id": "8e7a6b11",
   "metadata": {
    "collapsed": true,
    "hidden": true
   },
   "outputs": [
    {
     "data": {
      "text/plain": [
       "array([[6, 3, 4, 2],\n",
       "       [2, 2, 4, 4]])"
      ]
     },
     "metadata": {},
     "output_type": "display_data"
    },
    {
     "data": {
      "text/plain": [
       "array([[-4,  4,  1,  4],\n",
       "       [-1,  0, -3, -1],\n",
       "       [ 4,  1,  3, -3]])"
      ]
     },
     "metadata": {},
     "output_type": "display_data"
    },
    {
     "data": {
      "text/plain": [
       "array([[ 6,  3,  4,  2],\n",
       "       [ 2,  2,  4,  4],\n",
       "       [-4,  4,  1,  4],\n",
       "       [-1,  0, -3, -1],\n",
       "       [ 4,  1,  3, -3],\n",
       "       [ 6,  3,  4,  2],\n",
       "       [ 2,  2,  4,  4]])"
      ]
     },
     "execution_count": 22,
     "metadata": {},
     "output_type": "execute_result"
    }
   ],
   "source": [
    "arr1 = np.random.randint(0,10,size = (2,4))\n",
    "\n",
    "arr2 = np.random.randint(-5,5,size = (3,4))\n",
    "\n",
    "display(arr1,arr2)\n",
    "\n",
    "# 合并，默认进行行合并，行变多\n",
    "np.concatenate([arr1,arr2,arr1])"
   ]
  },
  {
   "cell_type": "code",
   "execution_count": 27,
   "id": "f372c83f",
   "metadata": {
    "collapsed": true,
    "hidden": true
   },
   "outputs": [
    {
     "data": {
      "text/plain": [
       "array([[8, 1, 4, 0, 9],\n",
       "       [6, 9, 7, 8, 4],\n",
       "       [8, 0, 7, 3, 6]])"
      ]
     },
     "metadata": {},
     "output_type": "display_data"
    },
    {
     "data": {
      "text/plain": [
       "array([[ 4, -5, -2,  3],\n",
       "       [ 3,  0, -3,  3],\n",
       "       [ 2, -5,  1,  0]])"
      ]
     },
     "metadata": {},
     "output_type": "display_data"
    },
    {
     "data": {
      "text/plain": [
       "array([[ 8,  1,  4,  0,  9,  4, -5, -2,  3],\n",
       "       [ 6,  9,  7,  8,  4,  3,  0, -3,  3],\n",
       "       [ 8,  0,  7,  3,  6,  2, -5,  1,  0]])"
      ]
     },
     "execution_count": 27,
     "metadata": {},
     "output_type": "execute_result"
    }
   ],
   "source": [
    "arr1 = np.random.randint(0,10,size = (3,5))\n",
    "\n",
    "arr2 = np.random.randint(-5,5,size = (3,4))\n",
    "\n",
    "display(arr1,arr2)\n",
    "\n",
    "# 是否可以合并？\n",
    "# axis = 0默认值，代表行\n",
    "# axis = 1表示列，-1表示倒着数\n",
    "np.concatenate([arr1,arr2],axis = -1)"
   ]
  },
  {
   "cell_type": "markdown",
   "id": "3a768f8b",
   "metadata": {
    "hidden": true
   },
   "source": [
    "#### 拆分"
   ]
  },
  {
   "cell_type": "code",
   "execution_count": 33,
   "id": "8373fa39",
   "metadata": {
    "collapsed": true,
    "hidden": true
   },
   "outputs": [
    {
     "data": {
      "text/plain": [
       "array([[36, 34, 93, 96, 80, 96, 46, 29, 38],\n",
       "       [31, 63, 61, 64, 13, 97, 40, 80, 40],\n",
       "       [41, 67,  6, 50, 85, 65, 95, 43, 64],\n",
       "       [19, 30, 42, 83, 73, 24, 22, 73,  8],\n",
       "       [76, 52, 16, 54, 72, 38, 64, 17, 49],\n",
       "       [18, 58, 69, 89, 25,  9, 18, 19, 65]])"
      ]
     },
     "metadata": {},
     "output_type": "display_data"
    },
    {
     "name": "stdout",
     "output_type": "stream",
     "text": [
      "下面是列拆分：\n"
     ]
    },
    {
     "data": {
      "text/plain": [
       "[array([[36],\n",
       "        [31],\n",
       "        [41],\n",
       "        [19],\n",
       "        [76],\n",
       "        [18]]),\n",
       " array([[34, 93, 96],\n",
       "        [63, 61, 64],\n",
       "        [67,  6, 50],\n",
       "        [30, 42, 83],\n",
       "        [52, 16, 54],\n",
       "        [58, 69, 89]]),\n",
       " array([[80],\n",
       "        [13],\n",
       "        [85],\n",
       "        [73],\n",
       "        [72],\n",
       "        [25]]),\n",
       " array([[96, 46, 29, 38],\n",
       "        [97, 40, 80, 40],\n",
       "        [65, 95, 43, 64],\n",
       "        [24, 22, 73,  8],\n",
       "        [38, 64, 17, 49],\n",
       "        [ 9, 18, 19, 65]])]"
      ]
     },
     "execution_count": 33,
     "metadata": {},
     "output_type": "execute_result"
    }
   ],
   "source": [
    "nd = np.random.randint(0,100,size = (6,9))\n",
    "\n",
    "display(nd)\n",
    "\n",
    "# 行拆分，一个数字，表示平均分成多少份\n",
    "# 列表，表示，节点进行拆分\n",
    "np.split(nd,[1,4,5],axis = 0)\n",
    "\n",
    "print('下面是列拆分：')\n",
    "np.split(nd,[1,4,5],axis = 1)"
   ]
  },
  {
   "cell_type": "markdown",
   "id": "de441743",
   "metadata": {
    "hidden": true
   },
   "source": [
    "#### 数组转置"
   ]
  },
  {
   "cell_type": "code",
   "execution_count": 35,
   "id": "2a360c4e",
   "metadata": {
    "hidden": true
   },
   "outputs": [
    {
     "name": "stdout",
     "output_type": "stream",
     "text": [
      "原数据：\n"
     ]
    },
    {
     "data": {
      "text/plain": [
       "array([[2, 4, 5, 1, 6],\n",
       "       [2, 5, 5, 3, 7],\n",
       "       [0, 3, 8, 7, 3]])"
      ]
     },
     "metadata": {},
     "output_type": "display_data"
    },
    {
     "name": "stdout",
     "output_type": "stream",
     "text": [
      "reshape:\n"
     ]
    },
    {
     "data": {
      "text/plain": [
       "array([[2, 4, 5],\n",
       "       [1, 6, 2],\n",
       "       [5, 5, 3],\n",
       "       [7, 0, 3],\n",
       "       [8, 7, 3]])"
      ]
     },
     "metadata": {},
     "output_type": "display_data"
    },
    {
     "name": "stdout",
     "output_type": "stream",
     "text": [
      "转置，行变列，列变成行：\n"
     ]
    },
    {
     "data": {
      "text/plain": [
       "array([[2, 2, 0],\n",
       "       [4, 5, 3],\n",
       "       [5, 5, 8],\n",
       "       [1, 3, 7],\n",
       "       [6, 7, 3]])"
      ]
     },
     "metadata": {},
     "output_type": "display_data"
    }
   ],
   "source": [
    "A = np.random.randint(0,10,size = (3,5))\n",
    "\n",
    "print('原数据：')\n",
    "display(A)\n",
    "\n",
    "print('reshape:')\n",
    "display(A.reshape(5,3))\n",
    "\n",
    "print('转置，行变列，列变成行：')\n",
    "display(A.T)"
   ]
  },
  {
   "cell_type": "code",
   "execution_count": 36,
   "id": "86d1b3a7",
   "metadata": {
    "hidden": true
   },
   "outputs": [
    {
     "data": {
      "text/plain": [
       "array([[2, 2, 0],\n",
       "       [4, 5, 3],\n",
       "       [5, 5, 8],\n",
       "       [1, 3, 7],\n",
       "       [6, 7, 3]])"
      ]
     },
     "execution_count": 36,
     "metadata": {},
     "output_type": "execute_result"
    }
   ],
   "source": [
    "np.transpose(A,axes = [1,0])"
   ]
  },
  {
   "cell_type": "markdown",
   "id": "d1f9538b",
   "metadata": {
    "heading_collapsed": true
   },
   "source": [
    "### 广播"
   ]
  },
  {
   "cell_type": "code",
   "execution_count": 38,
   "id": "54923ce9",
   "metadata": {
    "collapsed": true,
    "hidden": true
   },
   "outputs": [
    {
     "data": {
      "text/plain": [
       "array([[8, 9, 2],\n",
       "       [5, 9, 2],\n",
       "       [7, 0, 0],\n",
       "       [0, 7, 3],\n",
       "       [8, 1, 0]])"
      ]
     },
     "metadata": {},
     "output_type": "display_data"
    },
    {
     "data": {
      "text/plain": [
       "array([1, 2, 3])"
      ]
     },
     "metadata": {},
     "output_type": "display_data"
    },
    {
     "data": {
      "text/plain": [
       "array([[ 9, 11,  5],\n",
       "       [ 6, 11,  5],\n",
       "       [ 8,  2,  3],\n",
       "       [ 1,  9,  6],\n",
       "       [ 9,  3,  3]])"
      ]
     },
     "execution_count": 38,
     "metadata": {},
     "output_type": "execute_result"
    }
   ],
   "source": [
    "arr1 = np.random.randint(0,10,size = (5,3))\n",
    "\n",
    "arr2 = np.arange(1,4)\n",
    "display(arr1,arr2)\n",
    "\n",
    "# arr2 只有一行，arr1 5行\n",
    "# 广播机制，arr2 变身，变成了5份，每一份和每一行相加~\n",
    "arr1 + arr2"
   ]
  },
  {
   "cell_type": "code",
   "execution_count": 41,
   "id": "7427b40b",
   "metadata": {
    "collapsed": true,
    "hidden": true
   },
   "outputs": [
    {
     "data": {
      "text/plain": [
       "array([[7, 3, 7, 3, 2],\n",
       "       [5, 0, 6, 4, 8],\n",
       "       [5, 4, 2, 5, 3],\n",
       "       [3, 2, 8, 9, 7]])"
      ]
     },
     "metadata": {},
     "output_type": "display_data"
    },
    {
     "data": {
      "text/plain": [
       "array([4.4, 4.6, 3.8, 5.8])"
      ]
     },
     "metadata": {},
     "output_type": "display_data"
    },
    {
     "data": {
      "text/plain": [
       "array([[4.4],\n",
       "       [4.6],\n",
       "       [3.8],\n",
       "       [5.8]])"
      ]
     },
     "metadata": {},
     "output_type": "display_data"
    },
    {
     "data": {
      "text/plain": [
       "array([[ 2.6, -1.4,  2.6, -1.4, -2.4],\n",
       "       [ 0.4, -4.6,  1.4, -0.6,  3.4],\n",
       "       [ 1.2,  0.2, -1.8,  1.2, -0.8],\n",
       "       [-2.8, -3.8,  2.2,  3.2,  1.2]])"
      ]
     },
     "execution_count": 41,
     "metadata": {},
     "output_type": "execute_result"
    }
   ],
   "source": [
    "# 一行中，有5个数\n",
    "arr3 = np.random.randint(0,10,size = (4,5))\n",
    "\n",
    "# 每一行的平均值，4个数 == 4行\n",
    "arr4 = arr3.mean(axis = 1)\n",
    "\n",
    "display(arr3,arr4)\n",
    "\n",
    "# 每一行，减去每一行的平均值\n",
    "# arr3 - arr4 # 形状不匹配，所以报错\n",
    "\n",
    "# 形状改变，4行一列\n",
    "display(arr4.reshape(4,1))\n",
    "\n",
    "# arr3有4列，arr4改变形状，变成了4列\n",
    "# 广播\n",
    "arr3 - arr4.reshape(4,1)"
   ]
  },
  {
   "cell_type": "code",
   "execution_count": 43,
   "id": "24b73ffa",
   "metadata": {
    "collapsed": true,
    "hidden": true
   },
   "outputs": [
    {
     "name": "stdout",
     "output_type": "stream",
     "text": [
      "三维数组：\n"
     ]
    },
    {
     "data": {
      "text/plain": [
       "array([[[0, 1],\n",
       "        [2, 3],\n",
       "        [4, 5],\n",
       "        [6, 7]],\n",
       "\n",
       "       [[0, 1],\n",
       "        [2, 3],\n",
       "        [4, 5],\n",
       "        [6, 7]],\n",
       "\n",
       "       [[0, 1],\n",
       "        [2, 3],\n",
       "        [4, 5],\n",
       "        [6, 7]]])"
      ]
     },
     "metadata": {},
     "output_type": "display_data"
    },
    {
     "name": "stdout",
     "output_type": "stream",
     "text": [
      "二维数组：\n"
     ]
    },
    {
     "data": {
      "text/plain": [
       "array([[0, 1],\n",
       "       [2, 3],\n",
       "       [4, 5],\n",
       "       [6, 7]])"
      ]
     },
     "metadata": {},
     "output_type": "display_data"
    },
    {
     "data": {
      "text/plain": [
       "array([[[ 0,  2],\n",
       "        [ 4,  6],\n",
       "        [ 8, 10],\n",
       "        [12, 14]],\n",
       "\n",
       "       [[ 0,  2],\n",
       "        [ 4,  6],\n",
       "        [ 8, 10],\n",
       "        [12, 14]],\n",
       "\n",
       "       [[ 0,  2],\n",
       "        [ 4,  6],\n",
       "        [ 8, 10],\n",
       "        [12, 14]]])"
      ]
     },
     "execution_count": 43,
     "metadata": {},
     "output_type": "execute_result"
    }
   ],
   "source": [
    "import numpy as np\n",
    "arr1 = np.array([0,1,2,3,4,5,6,7]*3).reshape(3,4,2) #shape(3,4,2)\n",
    "arr2 = np.array([0,1,2,3,4,5,6,7]).reshape(4,2) #shape(4,2)\n",
    "\n",
    "print('三维数组：')\n",
    "display(arr1)\n",
    "\n",
    "print('二维数组：')\n",
    "display(arr2)\n",
    "\n",
    "arr3 = arr1 + arr2 # arr2数组在0维上复制3份 shape(3,4,2)\n",
    "arr3"
   ]
  },
  {
   "cell_type": "markdown",
   "id": "f6ecb1f9",
   "metadata": {},
   "source": [
    "### 通俗函数"
   ]
  },
  {
   "cell_type": "markdown",
   "id": "2815b71c",
   "metadata": {
    "heading_collapsed": true
   },
   "source": [
    "#### 一般函数"
   ]
  },
  {
   "cell_type": "code",
   "execution_count": 46,
   "id": "9d0f0097",
   "metadata": {
    "hidden": true
   },
   "outputs": [
    {
     "data": {
      "text/plain": [
       "1.0"
      ]
     },
     "execution_count": 46,
     "metadata": {},
     "output_type": "execute_result"
    }
   ],
   "source": [
    "np.sin(np.pi/2)"
   ]
  },
  {
   "cell_type": "code",
   "execution_count": 50,
   "id": "7c531719",
   "metadata": {
    "hidden": true
   },
   "outputs": [
    {
     "data": {
      "text/plain": [
       "6.123233995736766e-17"
      ]
     },
     "execution_count": 50,
     "metadata": {},
     "output_type": "execute_result"
    }
   ],
   "source": [
    "np.cos(np.pi/2).round(1) # 保留几位小数"
   ]
  },
  {
   "cell_type": "code",
   "execution_count": 52,
   "id": "03341f55",
   "metadata": {
    "hidden": true
   },
   "outputs": [
    {
     "data": {
      "text/plain": [
       "32.0"
      ]
     },
     "execution_count": 52,
     "metadata": {},
     "output_type": "execute_result"
    }
   ],
   "source": [
    "np.sqrt(1024) # 开平方"
   ]
  },
  {
   "cell_type": "code",
   "execution_count": 54,
   "id": "94f3a679",
   "metadata": {
    "hidden": true
   },
   "outputs": [
    {
     "data": {
      "text/plain": [
       "64"
      ]
     },
     "execution_count": 54,
     "metadata": {},
     "output_type": "execute_result"
    }
   ],
   "source": [
    "# 平方\n",
    "np.square(8)"
   ]
  },
  {
   "cell_type": "code",
   "execution_count": 55,
   "id": "c12e93ad",
   "metadata": {
    "hidden": true
   },
   "outputs": [
    {
     "data": {
      "text/plain": [
       "27"
      ]
     },
     "execution_count": 55,
     "metadata": {},
     "output_type": "execute_result"
    }
   ],
   "source": [
    "def fun(x):\n",
    "    return x**3\n",
    "\n",
    "fun(3)"
   ]
  },
  {
   "cell_type": "code",
   "execution_count": 69,
   "id": "adb88354",
   "metadata": {
    "hidden": true
   },
   "outputs": [
    {
     "data": {
      "text/plain": [
       "3.0"
      ]
     },
     "execution_count": 69,
     "metadata": {},
     "output_type": "execute_result"
    }
   ],
   "source": [
    "def fun2(x):\n",
    "    return x**(1/3)\n",
    "\n",
    "fun2(27) # 27 = 3 * 3 * 3  "
   ]
  },
  {
   "cell_type": "code",
   "execution_count": 63,
   "id": "455854e7",
   "metadata": {
    "hidden": true
   },
   "outputs": [
    {
     "data": {
      "text/plain": [
       "729"
      ]
     },
     "execution_count": 63,
     "metadata": {},
     "output_type": "execute_result"
    }
   ],
   "source": [
    "np.power(9,3)"
   ]
  },
  {
   "cell_type": "code",
   "execution_count": 72,
   "id": "b8546331",
   "metadata": {
    "hidden": true
   },
   "outputs": [
    {
     "data": {
      "text/plain": [
       "3.9999999999999996"
      ]
     },
     "execution_count": 72,
     "metadata": {},
     "output_type": "execute_result"
    }
   ],
   "source": [
    "np.power(64,1/3)"
   ]
  },
  {
   "cell_type": "code",
   "execution_count": 64,
   "id": "9c7d703e",
   "metadata": {
    "hidden": true
   },
   "outputs": [
    {
     "data": {
      "text/plain": [
       "4.0"
      ]
     },
     "execution_count": 64,
     "metadata": {},
     "output_type": "execute_result"
    }
   ],
   "source": [
    "np.log2(16)"
   ]
  },
  {
   "cell_type": "code",
   "execution_count": 65,
   "id": "3c31dd17",
   "metadata": {
    "hidden": true
   },
   "outputs": [
    {
     "data": {
      "text/plain": [
       "array([2, 5, 3, 9, 3, 9, 8])"
      ]
     },
     "execution_count": 65,
     "metadata": {},
     "output_type": "execute_result"
    }
   ],
   "source": [
    "x = np.array([1,5,2,9,3,6,8])\n",
    "y = np.array([2,4,3,7,1,9,0])\n",
    "np.maximum(x,y) # 返回两个数组中的比较大的值"
   ]
  },
  {
   "cell_type": "code",
   "execution_count": 68,
   "id": "5b76e1ae",
   "metadata": {
    "hidden": true
   },
   "outputs": [
    {
     "data": {
      "text/plain": [
       "array([[8, 3],\n",
       "       [9, 4]])"
      ]
     },
     "metadata": {},
     "output_type": "display_data"
    },
    {
     "data": {
      "text/plain": [
       "array([8, 3])"
      ]
     },
     "metadata": {},
     "output_type": "display_data"
    },
    {
     "data": {
      "text/plain": [
       "array([73, 84])"
      ]
     },
     "execution_count": 68,
     "metadata": {},
     "output_type": "execute_result"
    }
   ],
   "source": [
    "arr2 = np.random.randint(0,10,size = (2,2))\n",
    "display(arr2)\n",
    "display(arr2[0])\n",
    "np.inner(arr2[0],arr2) #返回一维数组向量内积"
   ]
  },
  {
   "cell_type": "code",
   "execution_count": 73,
   "id": "d6d0d39a",
   "metadata": {
    "hidden": true
   },
   "outputs": [
    {
     "data": {
      "text/plain": [
       "4.0"
      ]
     },
     "execution_count": 73,
     "metadata": {},
     "output_type": "execute_result"
    }
   ],
   "source": [
    "a = 3.9999\n",
    "np.ceil(a)"
   ]
  },
  {
   "cell_type": "code",
   "execution_count": 74,
   "id": "b93540d0",
   "metadata": {
    "hidden": true
   },
   "outputs": [
    {
     "data": {
      "text/plain": [
       "3.0"
      ]
     },
     "execution_count": 74,
     "metadata": {},
     "output_type": "execute_result"
    }
   ],
   "source": [
    "np.floor(a)"
   ]
  },
  {
   "cell_type": "code",
   "execution_count": 75,
   "id": "8857b64e",
   "metadata": {
    "hidden": true
   },
   "outputs": [
    {
     "data": {
      "text/plain": [
       "array([ 5,  8, 19, 16,  3, 10, 27, 21, 18, 16,  2, 20, 27,  8,  8, 19, 11,\n",
       "       19,  4,  3])"
      ]
     },
     "execution_count": 75,
     "metadata": {},
     "output_type": "execute_result"
    }
   ],
   "source": [
    "arr = np.random.randint(0,30,size = (20))\n",
    "\n",
    "arr"
   ]
  },
  {
   "cell_type": "code",
   "execution_count": 76,
   "id": "7f6a41aa",
   "metadata": {
    "hidden": true
   },
   "outputs": [
    {
     "data": {
      "text/plain": [
       "array([10, 10, 19, 16, 10, 10, 20, 20, 18, 16, 10, 20, 20, 10, 10, 19, 11,\n",
       "       19, 10, 10])"
      ]
     },
     "execution_count": 76,
     "metadata": {},
     "output_type": "execute_result"
    }
   ],
   "source": [
    "# clip裁剪，10：小于10，拔高，变成10\n",
    "# 20：大于20不行，消掉，变成20\n",
    "np.clip(arr,10,20)"
   ]
  },
  {
   "cell_type": "markdown",
   "id": "dcd163fc",
   "metadata": {},
   "source": [
    "#### where"
   ]
  },
  {
   "cell_type": "code",
   "execution_count": 77,
   "id": "6f2d596e",
   "metadata": {},
   "outputs": [
    {
     "data": {
      "text/plain": [
       "array([ 1,  4,  5,  7, 10])"
      ]
     },
     "execution_count": 77,
     "metadata": {},
     "output_type": "execute_result"
    }
   ],
   "source": [
    "import numpy as np\n",
    "arr1 = np.array([1,3,5,7,9])\n",
    "arr2 = np.array([2,4,6,8,10])\n",
    "\n",
    "cond = np.array([True,False,True,True,False])\n",
    "\n",
    "# 根据条件进行筛选\n",
    "np.where(cond,arr1,arr2) # True选择arr1，False选择arr2的值"
   ]
  },
  {
   "cell_type": "code",
   "execution_count": 78,
   "id": "9f02b09c",
   "metadata": {},
   "outputs": [
    {
     "data": {
      "text/plain": [
       "array([ 2,  4,  6,  8, 10])"
      ]
     },
     "execution_count": 78,
     "metadata": {},
     "output_type": "execute_result"
    }
   ],
   "source": [
    "np.maximum(arr1,arr2) # 每一列最大值"
   ]
  },
  {
   "cell_type": "code",
   "execution_count": 80,
   "id": "5b6a87d3",
   "metadata": {},
   "outputs": [
    {
     "data": {
      "text/plain": [
       "array([28, 13,  5, 26, 29, 24, 20, 16,  3, 28, 27, 16, 24, 12, 28, 12, 22,\n",
       "       19, 12,  9])"
      ]
     },
     "metadata": {},
     "output_type": "display_data"
    },
    {
     "data": {
      "text/plain": [
       "array([1024,   13,    5, 1024, 1024, 1024, 1024, 1024,    3, 1024, 1024,\n",
       "       1024, 1024,   12, 1024,   12, 1024, 1024,   12,    9])"
      ]
     },
     "execution_count": 80,
     "metadata": {},
     "output_type": "execute_result"
    }
   ],
   "source": [
    "arr3 = np.random.randint(0,30,size = 20)\n",
    "\n",
    "display(arr3)\n",
    "\n",
    "np.where(arr3 < 15,arr3,1024) # 小于15还是自身的值，大于15设置成-15"
   ]
  },
  {
   "cell_type": "code",
   "execution_count": 81,
   "id": "ad7a4e81",
   "metadata": {},
   "outputs": [
    {
     "data": {
      "text/plain": [
       "array([ 25, 149, 168,  85, 164,  43,  -1,  50,  67, 125,   4,  98, 154,\n",
       "       145,  -6,  68,  42,  38,  54, 103,  28,  57,  13, 153, 167,  45,\n",
       "       171, 178,  62, 144,  95, 176, 131, 169,  88,  68,  99,   8, 141,\n",
       "       146, 128,  22, 177,  73,  30,  92,  -3,  12,  38,  23])"
      ]
     },
     "execution_count": 81,
     "metadata": {},
     "output_type": "execute_result"
    }
   ],
   "source": [
    "# 高考数学，成绩，小0分大于15分，错误，成绩调整一个数字：-1024\n",
    "arr4 = np.random.randint(-10,180,size = 50)\n",
    "arr4"
   ]
  },
  {
   "cell_type": "code",
   "execution_count": 87,
   "id": "efdf33b2",
   "metadata": {
    "scrolled": true
   },
   "outputs": [
    {
     "data": {
      "text/plain": [
       "array([  25,  149, 1024,   85, 1024,   43, 1024,   50,   67,  125,    4,\n",
       "         98, 1024,  145, 1024,   68,   42,   38,   54,  103,   28,   57,\n",
       "         13, 1024, 1024,   45, 1024, 1024,   62,  144,   95, 1024,  131,\n",
       "       1024,   88,   68,   99,    8,  141,  146,  128,   22, 1024,   73,\n",
       "         30,   92, 1024,   12,   38,   23])"
      ]
     },
     "execution_count": 87,
     "metadata": {},
     "output_type": "execute_result"
    }
   ],
   "source": [
    "np.where((arr4 < 0) | (arr4 > 150),1024, arr4)"
   ]
  },
  {
   "cell_type": "markdown",
   "id": "aef1585f",
   "metadata": {},
   "source": [
    "#### 集合运算函数"
   ]
  },
  {
   "cell_type": "code",
   "execution_count": 88,
   "id": "e48c6ec6",
   "metadata": {},
   "outputs": [
    {
     "name": "stdout",
     "output_type": "stream",
     "text": [
      "交集：\n",
      "[4 6]\n",
      "并集：\n",
      " [2 3 4 5 6 8]\n",
      "差集：\n",
      " [2 8]\n"
     ]
    }
   ],
   "source": [
    "A = np.array([2,4,6,8])\n",
    "B = np.array([3,4,5,6])\n",
    "\n",
    "print('交集：')\n",
    "print(np.intersect1d(A,B)) # 交集 array([4, 6])\n",
    "\n",
    "# 两者合并，去重\n",
    "print('并集：\\n',np.union1d(A,B)) # 并集 array([2, 3, 4, 5, 6, 8])\n",
    "\n",
    "# A中有，B中没有\n",
    "print('差集：\\n',np.setdiff1d(A,B)) #差集，A中有，B中没有 array([2, 8])"
   ]
  },
  {
   "cell_type": "markdown",
   "id": "424c908c",
   "metadata": {},
   "source": [
    "### 矩阵运算"
   ]
  },
  {
   "cell_type": "code",
   "execution_count": 89,
   "id": "7d3d806b",
   "metadata": {},
   "outputs": [
    {
     "name": "stdout",
     "output_type": "stream",
     "text": [
      "点乘，矩阵运算:\n",
      " [[ 25  23]\n",
      " [ -4 -11]]\n"
     ]
    },
    {
     "data": {
      "text/plain": [
       "array([[ 25,  23],\n",
       "       [ -4, -11]])"
      ]
     },
     "execution_count": 89,
     "metadata": {},
     "output_type": "execute_result"
    }
   ],
   "source": [
    "#矩阵的乘积\n",
    "A = np.array([[4,2,3],\n",
    "              [1,3,1]]) # shape(2,3)\n",
    "B = np.array([[2,7],\n",
    "              [-5,-7],\n",
    "              [9,3]]) # shape(3,2)\n",
    "\n",
    "print('点乘，矩阵运算:\\n', np.dot(A,B)) # 矩阵运算 A的最后一维和B的第一维必须一致\n",
    "\n",
    "\n",
    "A @ B # 符号 @ 表示矩阵乘积运算"
   ]
  },
  {
   "cell_type": "code",
   "execution_count": 90,
   "id": "d6fcf1eb",
   "metadata": {},
   "outputs": [
    {
     "data": {
      "text/plain": [
       "array([[ 25,  23],\n",
       "       [ -4, -11]])"
      ]
     },
     "execution_count": 90,
     "metadata": {},
     "output_type": "execute_result"
    }
   ],
   "source": [
    "A.dot(B)"
   ]
  },
  {
   "cell_type": "code",
   "execution_count": 94,
   "id": "e57e123c",
   "metadata": {},
   "outputs": [
    {
     "data": {
      "text/plain": [
       "array([[ 1.,  0., -0.],\n",
       "       [ 0.,  1.,  0.],\n",
       "       [ 0., -0.,  1.]])"
      ]
     },
     "execution_count": 94,
     "metadata": {},
     "output_type": "execute_result"
    }
   ],
   "source": [
    "#计算矩阵的逆\n",
    "np.set_printoptions(suppress=True)\n",
    "from numpy.linalg import inv,det,eig,qr,svd\n",
    "A = np.array([[1,2,3],\n",
    "              [2,3,4],\n",
    "              [4,5,8]]) # shape(3,3)\n",
    "B = inv(A) # 逆矩阵\n",
    "\n",
    "A.dot(B)"
   ]
  },
  {
   "cell_type": "code",
   "execution_count": 95,
   "id": "cfb06519",
   "metadata": {},
   "outputs": [
    {
     "data": {
      "text/plain": [
       "1.0"
      ]
     },
     "execution_count": 95,
     "metadata": {},
     "output_type": "execute_result"
    }
   ],
   "source": [
    "a = 5\n",
    "\n",
    "b = 0.2\n",
    "\n",
    "a * b"
   ]
  },
  {
   "cell_type": "code",
   "execution_count": 96,
   "id": "d83dbd34",
   "metadata": {},
   "outputs": [
    {
     "data": {
      "text/plain": [
       "-2.0000000000000004"
      ]
     },
     "execution_count": 96,
     "metadata": {},
     "output_type": "execute_result"
    }
   ],
   "source": [
    "det(A)#计算矩阵行列式"
   ]
  },
  {
   "cell_type": "code",
   "execution_count": 97,
   "id": "026cdcbf",
   "metadata": {},
   "outputs": [
    {
     "data": {
      "text/plain": [
       "array([[5, 8],\n",
       "       [8, 2],\n",
       "       [8, 1]])"
      ]
     },
     "execution_count": 97,
     "metadata": {},
     "output_type": "execute_result"
    }
   ],
   "source": [
    "A = np.random.randint(0,10,size = (3,2))\n",
    "\n",
    "A"
   ]
  },
  {
   "cell_type": "code",
   "execution_count": 102,
   "id": "daf59a0f",
   "metadata": {},
   "outputs": [
    {
     "data": {
      "text/plain": [
       "array([[5., 8., 8., 0., 0.],\n",
       "       [2., 8., 1., 0., 0.],\n",
       "       [0., 0., 0., 0., 0.],\n",
       "       [0., 0., 0., 0., 0.],\n",
       "       [0., 0., 0., 0., 0.]])"
      ]
     },
     "execution_count": 102,
     "metadata": {},
     "output_type": "execute_result"
    }
   ],
   "source": [
    "B = A.reshape(2,3)\n",
    "\n",
    "C  = np.concatenate([B,np.full(shape = (3,3),fill_value=0)])\n",
    "\n",
    "D = np.concatenate([C,np.zeros(shape = (5,2))],axis = 1)\n",
    "D"
   ]
  },
  {
   "cell_type": "code",
   "execution_count": null,
   "id": "9ce7feb1",
   "metadata": {},
   "outputs": [],
   "source": []
  }
 ],
 "metadata": {
  "kernelspec": {
   "display_name": "Python 3",
   "language": "python",
   "name": "python3"
  },
  "language_info": {
   "codemirror_mode": {
    "name": "ipython",
    "version": 3
   },
   "file_extension": ".py",
   "mimetype": "text/x-python",
   "name": "python",
   "nbconvert_exporter": "python",
   "pygments_lexer": "ipython3",
   "version": "3.8.10"
  },
  "toc": {
   "base_numbering": 1,
   "nav_menu": {},
   "number_sections": true,
   "sideBar": true,
   "skip_h1_title": false,
   "title_cell": "Table of Contents",
   "title_sidebar": "Contents",
   "toc_cell": false,
   "toc_position": {},
   "toc_section_display": true,
   "toc_window_display": true
  }
 },
 "nbformat": 4,
 "nbformat_minor": 5
}
