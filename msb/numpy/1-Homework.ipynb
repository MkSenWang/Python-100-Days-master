{
 "cells": [
  {
   "cell_type": "markdown",
   "id": "ee90be72",
   "metadata": {},
   "source": [
    "### 作业1"
   ]
  },
  {
   "cell_type": "code",
   "execution_count": 1,
   "id": "c8c53847",
   "metadata": {},
   "outputs": [
    {
     "data": {
      "text/plain": [
       "array([0, 0, 0, 0, 1, 0, 0, 0, 0, 0])"
      ]
     },
     "execution_count": 1,
     "metadata": {},
     "output_type": "execute_result"
    }
   ],
   "source": [
    "import numpy as np\n",
    "\n",
    "arr = np.zeros(10,dtype = 'int')\n",
    "\n",
    "# 注意第5个元素对应索引是4\n",
    "arr[4] = 1\n",
    "arr"
   ]
  },
  {
   "cell_type": "markdown",
   "id": "b1e5baf0",
   "metadata": {},
   "source": [
    "### 作业2"
   ]
  },
  {
   "cell_type": "code",
   "execution_count": 5,
   "id": "98080e77",
   "metadata": {},
   "outputs": [
    {
     "data": {
      "text/plain": [
       "array([10, 11, 12, 13, 14, 15, 16, 17, 18, 19, 20, 21, 22, 23, 24, 25, 26,\n",
       "       27, 28, 29, 30, 31, 32, 33, 34, 35, 36, 37, 38, 39, 40, 41, 42, 43,\n",
       "       44, 45, 46, 47, 48, 49], dtype=int16)"
      ]
     },
     "execution_count": 5,
     "metadata": {},
     "output_type": "execute_result"
    }
   ],
   "source": [
    "import numpy as np\n",
    "\n",
    "# 注意，包含49，所以范围给的是10 ~ 50，可以取到10，但是取不到50\n",
    "arr = np.arange(10,50)\n",
    "arr2 = np.linspace(10,49,40,dtype=np.int16)\n",
    "arr2"
   ]
  },
  {
   "cell_type": "markdown",
   "id": "33a5c412",
   "metadata": {},
   "source": [
    "### 作业4"
   ]
  },
  {
   "cell_type": "code",
   "execution_count": 7,
   "id": "7c11eb96",
   "metadata": {},
   "outputs": [
    {
     "data": {
      "text/plain": [
       "array([50, 21,  9, 17, 98, 44, 63, 28, 55,  4, 21, 17, 85,  1, 11, 55, 23,\n",
       "       44, 43, 67, 91, 53, 86, 43, 93, 68, 36, 32, 66,  6])"
      ]
     },
     "metadata": {},
     "output_type": "display_data"
    },
    {
     "name": "stdout",
     "output_type": "stream",
     "text": [
      "输出最大值： 98\n",
      "输出最小值： 1\n"
     ]
    }
   ],
   "source": [
    "import numpy as np\n",
    "\n",
    "# 生成0~1之间的随机小数\n",
    "arr = np.random.randint(0,100,size = 30)\n",
    "display(arr)\n",
    "\n",
    "# 考察函数使用\n",
    "print('输出最大值：',arr.max())\n",
    "print('输出最小值：',arr.min())"
   ]
  },
  {
   "cell_type": "markdown",
   "id": "56623747",
   "metadata": {},
   "source": [
    "### 作业5"
   ]
  },
  {
   "cell_type": "code",
   "execution_count": 10,
   "id": "157a8046",
   "metadata": {},
   "outputs": [
    {
     "data": {
      "text/plain": [
       "array([[1, 1, 1, 1, 1, 1, 1, 1, 1, 1],\n",
       "       [1, 0, 0, 0, 0, 0, 0, 0, 0, 1],\n",
       "       [1, 0, 0, 0, 0, 0, 0, 0, 0, 1],\n",
       "       [1, 0, 0, 0, 0, 0, 0, 0, 0, 1],\n",
       "       [1, 0, 0, 0, 0, 0, 0, 0, 0, 1],\n",
       "       [1, 0, 0, 0, 0, 0, 0, 0, 0, 1],\n",
       "       [1, 0, 0, 0, 0, 0, 0, 0, 0, 1],\n",
       "       [1, 0, 0, 0, 0, 0, 0, 0, 0, 1],\n",
       "       [1, 0, 0, 0, 0, 0, 0, 0, 0, 1],\n",
       "       [1, 1, 1, 1, 1, 1, 1, 1, 1, 1]], dtype=int8)"
      ]
     },
     "execution_count": 10,
     "metadata": {},
     "output_type": "execute_result"
    }
   ],
   "source": [
    "arr = np.zeros(shape = (10,10),dtype = np.int8)\n",
    "\n",
    "arr[[0,-1]] = 1 # 索引、行变换，赋值\n",
    "arr[:,[0,-1]] = 1\n",
    "\n",
    "arr"
   ]
  },
  {
   "cell_type": "markdown",
   "id": "1ed7da69",
   "metadata": {},
   "source": [
    "### 作业6"
   ]
  },
  {
   "cell_type": "code",
   "execution_count": 13,
   "id": "1f7785ab",
   "metadata": {},
   "outputs": [
    {
     "data": {
      "text/plain": [
       "array([[0., 1., 2., 3., 4.],\n",
       "       [0., 1., 2., 3., 4.],\n",
       "       [0., 1., 2., 3., 4.],\n",
       "       [0., 1., 2., 3., 4.],\n",
       "       [0., 1., 2., 3., 4.]])"
      ]
     },
     "execution_count": 13,
     "metadata": {},
     "output_type": "execute_result"
    }
   ],
   "source": [
    "arr = np.full(shape = (5,5),fill_value=3.14)\n",
    "\n",
    "\n",
    "arr2 = np.arange(0,5)\n",
    "\n",
    "arr[:] = arr2\n",
    "\n",
    "arr"
   ]
  },
  {
   "cell_type": "markdown",
   "id": "6a4689eb",
   "metadata": {},
   "source": [
    "### 作业7"
   ]
  },
  {
   "cell_type": "code",
   "execution_count": 17,
   "id": "1541c6da",
   "metadata": {},
   "outputs": [
    {
     "data": {
      "text/plain": [
       "array([      0.015625  ,       0.09473229,       0.57434918,\n",
       "             3.48220225,      21.11212657,     128.        ,\n",
       "           776.04688205,    4705.06846207,   28526.20085809,\n",
       "        172950.54088083, 1048576.        ])"
      ]
     },
     "execution_count": 17,
     "metadata": {},
     "output_type": "execute_result"
    }
   ],
   "source": [
    "np.set_printoptions(suppress=True)\n",
    "np.logspace(-3,10,base = 4,num = 11) # 等比数列"
   ]
  },
  {
   "cell_type": "markdown",
   "id": "23c06699",
   "metadata": {},
   "source": [
    "### 作业8"
   ]
  },
  {
   "cell_type": "code",
   "execution_count": 18,
   "id": "0ab0bb13",
   "metadata": {},
   "outputs": [
    {
     "name": "stdout",
     "output_type": "stream",
     "text": [
      "未排序： [ 0.21544033  1.41067909  0.84189422  0.79528112 -0.59399019  1.22682181\n",
      " -1.05607281 -0.89432473 -1.35657179 -0.11982268]\n",
      "排序后： [-1.35657179 -1.05607281 -0.89432473 -0.59399019 -0.11982268  0.21544033\n",
      "  0.79528112  0.84189422  1.22682181  1.41067909]\n"
     ]
    }
   ],
   "source": [
    "import numpy as np\n",
    "\n",
    "# 创建随机数组\n",
    "arr = np.random.randn(10)\n",
    "print('未排序：',arr)\n",
    "\n",
    "# 注意调用np.sort()方法，要接收一下数据\n",
    "# 原来的arr并没有改变\n",
    "arr2 = np.sort(arr)\n",
    "print('排序后：',arr2)"
   ]
  },
  {
   "cell_type": "markdown",
   "id": "eeb7ce3e",
   "metadata": {},
   "source": [
    "### 作业9"
   ]
  },
  {
   "cell_type": "code",
   "execution_count": 20,
   "id": "fe956210",
   "metadata": {},
   "outputs": [
    {
     "name": "stdout",
     "output_type": "stream",
     "text": [
      "原数据：\n",
      " [0.52645349 0.9895991  0.44058396 0.15420042 0.33725979 0.56146253\n",
      " 0.10336838 0.16735032 0.79705103 0.75954352]\n",
      "最大值条件：\n",
      " [False  True False False False False False False False False]\n",
      "修改之后数据：\n",
      " [   0.52645349 -100.            0.44058396    0.15420042    0.33725979\n",
      "    0.56146253    0.10336838    0.16735032    0.79705103    0.75954352]\n"
     ]
    }
   ],
   "source": [
    "import numpy as np\n",
    "\n",
    "# 设置不显示科学计数法，默认情况显示情况是：3.22449e-01\n",
    "np.set_printoptions(suppress = True)\n",
    "\n",
    "arr = np.random.random(10)\n",
    "print('原数据：\\n',arr)\n",
    "\n",
    "# 找到最大值\n",
    "v = arr.max()\n",
    "\n",
    "# 花式索引\n",
    "# 进行条件判断\n",
    "cond = arr == v\n",
    "print('最大值条件：\\n',cond)\n",
    "\n",
    "# 根据条件，赋值\n",
    "arr[cond] = -100\n",
    "print('修改之后数据：\\n',arr)"
   ]
  },
  {
   "cell_type": "markdown",
   "id": "95082904",
   "metadata": {},
   "source": [
    "### 作业10"
   ]
  },
  {
   "cell_type": "code",
   "execution_count": 21,
   "id": "3deef3da",
   "metadata": {},
   "outputs": [
    {
     "data": {
      "text/plain": [
       "array([ 9, 33, 44, 18, 68])"
      ]
     },
     "execution_count": 21,
     "metadata": {},
     "output_type": "execute_result"
    }
   ],
   "source": [
    "arr = np.random.randint(0,100,size = 5)\n",
    "\n",
    "arr"
   ]
  },
  {
   "cell_type": "code",
   "execution_count": 23,
   "id": "a1cafc89",
   "metadata": {},
   "outputs": [
    {
     "data": {
      "text/plain": [
       "array([68, 44, 33, 18,  9])"
      ]
     },
     "execution_count": 23,
     "metadata": {},
     "output_type": "execute_result"
    }
   ],
   "source": [
    "np.sort(arr)[::-1]"
   ]
  },
  {
   "cell_type": "code",
   "execution_count": 25,
   "id": "8cac6898",
   "metadata": {},
   "outputs": [
    {
     "name": "stdout",
     "output_type": "stream",
     "text": [
      "[0 3 1 2 4]\n"
     ]
    },
    {
     "data": {
      "text/plain": [
       "array([ 9, 18, 33, 44, 68])"
      ]
     },
     "execution_count": 25,
     "metadata": {},
     "output_type": "execute_result"
    }
   ],
   "source": [
    "index = np.argsort(arr) # 索引\n",
    "\n",
    "print(index)\n",
    "\n",
    "# 根据索引进行排序\n",
    "# 花式索引\n",
    "arr[index]"
   ]
  },
  {
   "cell_type": "code",
   "execution_count": 26,
   "id": "dfb3ace6",
   "metadata": {
    "scrolled": true
   },
   "outputs": [
    {
     "data": {
      "text/plain": [
       "array([[ 6, 24,  8, 24, 26],\n",
       "       [ 4,  7,  9, 11,  7],\n",
       "       [ 5, 19,  6, 26, 18],\n",
       "       [13,  8, 24,  3, 22],\n",
       "       [27, 22,  5,  9, 11]])"
      ]
     },
     "execution_count": 26,
     "metadata": {},
     "output_type": "execute_result"
    }
   ],
   "source": [
    "nd = np.random.randint(0,30,size = (5,5))\n",
    "nd"
   ]
  },
  {
   "cell_type": "code",
   "execution_count": 29,
   "id": "ba7d5899",
   "metadata": {},
   "outputs": [
    {
     "data": {
      "text/plain": [
       "array([[27, 22,  5,  9, 11],\n",
       "       [ 5, 19,  6, 26, 18],\n",
       "       [ 6, 24,  8, 24, 26],\n",
       "       [ 4,  7,  9, 11,  7],\n",
       "       [13,  8, 24,  3, 22]])"
      ]
     },
     "execution_count": 29,
     "metadata": {},
     "output_type": "execute_result"
    }
   ],
   "source": [
    "# 获取第三列，并且获取第三列索引的顺序\n",
    "index = nd[:,2].argsort()\n",
    "\n",
    "# 根据第三列的索引顺序，对nd进行排序\n",
    "# 花式索引\n",
    "nd[index]"
   ]
  },
  {
   "cell_type": "code",
   "execution_count": null,
   "id": "cb9e9151",
   "metadata": {},
   "outputs": [],
   "source": []
  }
 ],
 "metadata": {
  "kernelspec": {
   "display_name": "Python 3",
   "language": "python",
   "name": "python3"
  },
  "language_info": {
   "codemirror_mode": {
    "name": "ipython",
    "version": 3
   },
   "file_extension": ".py",
   "mimetype": "text/x-python",
   "name": "python",
   "nbconvert_exporter": "python",
   "pygments_lexer": "ipython3",
   "version": "3.8.10"
  },
  "toc": {
   "base_numbering": 1,
   "nav_menu": {},
   "number_sections": true,
   "sideBar": true,
   "skip_h1_title": false,
   "title_cell": "Table of Contents",
   "title_sidebar": "Contents",
   "toc_cell": false,
   "toc_position": {},
   "toc_section_display": true,
   "toc_window_display": true
  }
 },
 "nbformat": 4,
 "nbformat_minor": 5
}
